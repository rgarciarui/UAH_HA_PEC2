{
 "cells": [
  {
   "cell_type": "code",
   "execution_count": null,
   "metadata": {},
   "outputs": [],
   "source": []
  },
  {
   "cell_type": "code",
   "execution_count": null,
   "metadata": {},
   "outputs": [],
   "source": [
    "El ejercicio consiste en entregar un Notebook con los siguientes puntos:\n",
    "\n",
    "Utilizar el API REST de StackEchange (https://api.stackexchange.com/) para obtener una muestra de más de 1000 preguntas sobre un tag concreto. Por ejemplo, el tag podría ser \"python\". Convertir esos datos en un DataFrame con al menos los siguientes elementos: identificador de usuario, identificador de pregunta, título, si se ha contestado o no, número de veces que se ha visto y fecha de creación. Sobre ese DataFrame , hacer lo siguiente:\n",
    "Buscar la pregunta más antigua no contestada.\n",
    "Obtener y dibujar la distribución de las visitas.\n",
    "Sobre el DataFrame anterior, incluir columnas adicionales obteniendo información del API sobre la respuesta más valorada a cada pregunta, con al menos el identificador de la respuesta, la puntuación, la fecha en que se creó y el identificador del usuario que respondió.\n",
    "Sobre el DataFrame anterior, extraer todos los usuarios diferentes que aparecen, y obtener el usuario de mayor y de menor reputación."
   ]
  },
  {
   "cell_type": "code",
   "execution_count": 3,
   "metadata": {},
   "outputs": [
    {
     "name": "stdout",
     "output_type": "stream",
     "text": [
      "{'items': [{'new_active_users': 12, 'total_users': 10039293, 'badges_per_minute': 5.44, 'total_badges': 30106326, 'total_votes': 132897299, 'total_comments': 87014572, 'answers_per_minute': 4.76, 'questions_per_minute': 3.1, 'total_answers': 26352931, 'total_accepted': 9072617, 'total_unanswered': 5016926, 'total_questions': 17170172, 'api_revision': '2019.2.1.32455'}], 'has_more': False, 'quota_max': 300, 'quota_remaining': 299}\n"
     ]
    }
   ],
   "source": [
    "import requests\n",
    "\n",
    "BASEURL = \"https://api.stackexchange.com/2.2/info\"\n",
    "\n",
    "params = {\n",
    "  \"site\" : \"stackoverflow\"\n",
    "  }\n",
    "\n",
    "r = requests.get(BASEURL, params=params)\n",
    "\n",
    "print( r.json() )"
   ]
  },
  {
   "cell_type": "code",
   "execution_count": null,
   "metadata": {},
   "outputs": [],
   "source": []
  }
 ],
 "metadata": {
  "kernelspec": {
   "display_name": "Python 3",
   "language": "python",
   "name": "python3"
  },
  "language_info": {
   "codemirror_mode": {
    "name": "ipython",
    "version": 3
   },
   "file_extension": ".py",
   "mimetype": "text/x-python",
   "name": "python",
   "nbconvert_exporter": "python",
   "pygments_lexer": "ipython3",
   "version": "3.7.1"
  }
 },
 "nbformat": 4,
 "nbformat_minor": 2
}
